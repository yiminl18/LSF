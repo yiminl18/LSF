{
 "cells": [
  {
   "cell_type": "markdown",
   "id": "2c1ff16f",
   "metadata": {},
   "source": [
    "data: /Users/yiminglin/Documents/Codebase/LSF/data/CUAD_v1/full_contract_pdf/Part_III/Franchise/GOOSEHEADINSURANCE,INC_04_02_2018-EX-10.6-Franchise Agreement.PDF\n",
    "\n",
    "1. First 80 pages - following the same structure \n",
    "2. The last 30 pages - following another structure (Title is informative, represente different states)\n",
    "3. Folder structure can also be leveraged \n",
    "4. Let LLMs be human to read the hierarchical metadata structure still works great\n",
    "5. files in one folder does not share syntactic structures. SHT based on visual curs are too strong for doc clustering. But semantic structures are quite similar, especially for constracts data. \n",
    "6. Semantic metadata tree clustering seems hard, and how to accomodate that to capture the commonality of doc and queries \n",
    "   1. answers are all in 'License Fees', 'Tax', 'CONFIDENTIAL TREATMENT', 'TERMINATION OF AGREEMENT' for contracts data "
   ]
  },
  {
   "cell_type": "markdown",
   "id": "3fc847b3",
   "metadata": {},
   "source": []
  }
 ],
 "metadata": {
  "kernelspec": {
   "display_name": "base",
   "language": "python",
   "name": "python3"
  },
  "language_info": {
   "codemirror_mode": {
    "name": "ipython",
    "version": 3
   },
   "file_extension": ".py",
   "mimetype": "text/x-python",
   "name": "python",
   "nbconvert_exporter": "python",
   "pygments_lexer": "ipython3",
   "version": "3.9.7"
  }
 },
 "nbformat": 4,
 "nbformat_minor": 5
}
